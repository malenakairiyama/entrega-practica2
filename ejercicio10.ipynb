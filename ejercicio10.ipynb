{
 "cells": [
  {
   "cell_type": "markdown",
   "metadata": {},
   "source": [
    "## Ejercicio 10"
   ]
  },
  {
   "cell_type": "markdown",
   "metadata": {},
   "source": [
    "Un club de hockey posee las estadísticas de todxs sus jugadorxs de la última\n",
    "temporada jugada del torneo de hockey mixto. Poseen una lista con los nombres, otra\n",
    "con los goles a favor, otra con los goles evitados y la última con las asistencias\n",
    "realizadas.\n",
    "\n",
    "**Objetivo**: Organizar la información de cada jugador para definir la entrega de premios."
   ]
  },
  {
   "cell_type": "code",
   "execution_count": 47,
   "metadata": {},
   "outputs": [],
   "source": [
    "names = \"\"\" Agustin, Yanina, Andrés, Ariadna, Bautista, CAROLINA, CESAR, David, Diego, Dolores, DYLAN, ELIANA, Emanuel, Fabián, Noelia, Francsica', FEDERICO, Fernanda, GONZALO, Nancy \"\"\"\n",
    "goals = [0, 10, 4, 0, 5, 14, 0, 0, 7, 2, 1, 1, 1, 5, 6, 1, 1, 2, 0, 11]\n",
    "goals_avoided = [0, 2, 0, 0, 5, 2, 0, 0, 1, 2, 0, 5, 5, 0, 1, 0, 2, 3, 0, 0]\n",
    "assists = [0, 5, 1, 0, 5, 2, 0, 0, 1, 2, 1, 5, 5, 0, 1, 0, 2, 3, 1, 0]\n"
   ]
  },
  {
   "cell_type": "markdown",
   "metadata": {},
   "source": [
    "En el módulo *club_hockey_estadisticas* están definidas las funciones que necesitamos para:\n",
    "- Generar una estructura que contenga las estadísticas asociadas a cada jugador\n",
    "- Conocer al goleador de la temporada\n",
    "- Conocer al jugador más influyente\n",
    "- Conocer el promedio de goles por partido:\n",
    "    - del equipo en general\n",
    "    - del goleador de la temporada"
   ]
  },
  {
   "cell_type": "markdown",
   "metadata": {},
   "source": [
    "Convertir names en una lista de nombres"
   ]
  },
  {
   "cell_type": "code",
   "execution_count": 48,
   "metadata": {},
   "outputs": [
    {
     "name": "stdout",
     "output_type": "stream",
     "text": [
      "[' Agustin', 'Yanina', 'Andrés', 'Ariadna', 'Bautista', 'CAROLINA', 'CESAR', 'David', 'Diego', 'Dolores', 'DYLAN', 'ELIANA', 'Emanuel', 'Fabián', 'Noelia', \"Francsica'\", 'FEDERICO', 'Fernanda', 'GONZALO', 'Nancy ']\n"
     ]
    }
   ],
   "source": [
    "names_list = names.split(\", \")\n",
    "print(names_list)"
   ]
  },
  {
   "cell_type": "markdown",
   "metadata": {},
   "source": [
    "Se importa módulo *club_hockey_estadisticas* e invocamos la función que genera la estructura con la información de cada jugador. En esta ocasión me pareció"
   ]
  },
  {
   "cell_type": "code",
   "execution_count": null,
   "metadata": {},
   "outputs": [],
   "source": [
    "import club_hockey_estadisticas as statistics\n",
    "\n",
    "players_info = statistics.generate_list_player(names_list, goals, goals_avoided, assists)\n",
    "\n",
    "print(\"--------LISTA DE JUGADORES-------\")\n",
    "for player in players_info:\n",
    "    for clave, valor in player.items():\n",
    "        print(f\"{clave}: {valor}\")\n",
    "    print()"
   ]
  },
  {
   "cell_type": "markdown",
   "metadata": {},
   "source": [
    "2. Se invoca a la función *get_scorer* que retorna el nombre y goles del goleador de la temporada"
   ]
  },
  {
   "cell_type": "code",
   "execution_count": null,
   "metadata": {},
   "outputs": [],
   "source": [
    "scorer, goals_max = statistics.get_scorer(players_info)\n",
    "print(f\"Goleador de la temporada: {scorer}\")\n",
    "print(f\"Cantidad de goles: {goals_max}\")"
   ]
  },
  {
   "cell_type": "markdown",
   "metadata": {},
   "source": [
    "3. Obtener el jugador más influyente de la temporada invocando a la función *get_influencer*"
   ]
  },
  {
   "cell_type": "code",
   "execution_count": null,
   "metadata": {},
   "outputs": [],
   "source": [
    "name= statistics.get_influencer(players_info)\n",
    "print(f\"Jugador más influyente: {name}\")"
   ]
  },
  {
   "cell_type": "markdown",
   "metadata": {},
   "source": [
    "4. Se invoca a la función *team_goals_average* para conocer el promedio de goles por partido del equipo en general y *max_scorer_average* para el promedio de goles del maximo goleador"
   ]
  },
  {
   "cell_type": "code",
   "execution_count": null,
   "metadata": {},
   "outputs": [],
   "source": [
    "    #Promedio de goles del equipo \n",
    "matches = 25\n",
    "t_average = statistics.team_goals_average(players_info, matches)\n",
    "print(f\"Promedio de goles del equipo en general: {t_average}\")\n",
    "print()\n",
    "scorer_average = statistics.max_scorer_average(players_info, matches)\n",
    "print(f\"Promedio de goles por partido del maximo goleador: {scorer_average}\")"
   ]
  }
 ],
 "metadata": {
  "kernelspec": {
   "display_name": "venv",
   "language": "python",
   "name": "python3"
  },
  "language_info": {
   "codemirror_mode": {
    "name": "ipython",
    "version": 3
   },
   "file_extension": ".py",
   "mimetype": "text/x-python",
   "name": "python",
   "nbconvert_exporter": "python",
   "pygments_lexer": "ipython3",
   "version": "3.11.7"
  }
 },
 "nbformat": 4,
 "nbformat_minor": 2
}
